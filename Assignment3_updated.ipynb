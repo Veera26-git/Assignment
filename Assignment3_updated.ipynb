{
 "cells": [
  {
   "cell_type": "raw",
   "metadata": {},
   "source": [
    "Task 1:\n",
    "1.\n",
    "Write a function to compute 5/0 and use try/except to catch the exceptions.\n"
   ]
  },
  {
   "cell_type": "code",
   "execution_count": 1,
   "metadata": {},
   "outputs": [
    {
     "name": "stdout",
     "output_type": "stream",
     "text": [
      "division by zero\n",
      "Exception handled\n"
     ]
    }
   ],
   "source": [
    "def compute():\n",
    "    try:\n",
    "        a = 5/0\n",
    "    except Exception as e:\n",
    "        print(e)\n",
    "        print('Exception handled')\n",
    "\n",
    "compute()"
   ]
  },
  {
   "cell_type": "raw",
   "metadata": {},
   "source": [
    "2.\n",
    "Implement a Python program to generate all sentences where subject is in [\"Americans\",\n",
    "\"Indians\"] and verb is in [\"Play\", \"watch\"] and the object is in [\"Baseball\",\"cricket\"].\n",
    "Hint: Subject,Verb and Object should be declared in the program as shown below.\n",
    "subjects=[\"Americans \",\"Indians\"]\n",
    "verbs=[\"play\",\"watch\"]\n",
    "objects=[\"Baseball\",\"Cricket\"]\n",
    "Output should come as below:\n",
    "Americans play Baseball.\n",
    "Americans play Cricket.\n",
    "Americans watch Baseball.\n",
    "Americans watch Cricket.\n",
    "Indians play Baseball.\n",
    "Indians play Cricket.\n",
    "Indians watch Baseball.\n",
    "Indians watch Cricket."
   ]
  },
  {
   "cell_type": "code",
   "execution_count": 2,
   "metadata": {},
   "outputs": [
    {
     "name": "stdout",
     "output_type": "stream",
     "text": [
      "******************************\n",
      "Americans  play Baseball\n",
      "Americans  play Cricket\n",
      "Americans  watch Baseball\n",
      "Americans  watch Cricket\n",
      "Indians play Baseball\n",
      "Indians play Cricket\n",
      "Indians watch Baseball\n",
      "Indians watch Cricket\n",
      "******************************\n",
      "Americans   play Baseball\n",
      "Americans   play Cricket\n",
      "Americans   watch Baseball\n",
      "Americans   watch Cricket\n",
      "Indians  play Baseball\n",
      "Indians  play Cricket\n",
      "Indians  watch Baseball\n",
      "Indians  watch Cricket\n",
      "******************************\n"
     ]
    }
   ],
   "source": [
    "print('*'*30)\n",
    "\n",
    "subjects=[\"Americans \",\"Indians\"]\n",
    "verbs=[\"play\",\"watch\"]\n",
    "objects=[\"Baseball\",\"Cricket\"]\n",
    "\n",
    "for i in subjects:\n",
    "    for j in verbs:\n",
    "        for k in objects:\n",
    "            print(f\"{i} {j} {k}\")\n",
    "\n",
    "print('*'*30)\n",
    "s = [(a , b , c)  for a in subjects for b in verbs for c in objects]\n",
    "for item in s:\n",
    "    print(f'{item[0]}  {item[1]} {item[2]}')\n",
    "#s = [i for i in subjects]\n",
    "\n",
    "print('*'*30)"
   ]
  },
  {
   "cell_type": "raw",
   "metadata": {},
   "source": [
    "Task 2:\n",
    "1.\n",
    "Write a function so that the columns of the output matrix are powers of the input vector.\n",
    "The order of the powers is determined by the increasing boolean argument. Specifically, when\n",
    "increasing is False, the i-th output column is the input vector raised element-wise to the power\n",
    "of N - i - 1.\n",
    "HINT: Such a matrix with a geometric progression in each row is named for AlexandreTheophile Vandermonde"
   ]
  },
  {
   "cell_type": "code",
   "execution_count": 1,
   "metadata": {},
   "outputs": [
    {
     "name": "stdout",
     "output_type": "stream",
     "text": [
      "Enter nof columns :4\n",
      "re1 --> [1, 1, 1, 1, 2, 4, 8, 16, 3, 9, 27, 81, 4, 16, 64, 256]\n",
      "[[  1   1   1   1]\n",
      " [  2   4   8  16]\n",
      " [  3   9  27  81]\n",
      " [  4  16  64 256]]\n",
      "re2 --> [1, 1, 1, 1, 16, 8, 4, 2, 81, 27, 9, 3, 256, 64, 16, 4]\n",
      "[[  1   1   1   1]\n",
      " [ 16   8   4   2]\n",
      " [ 81  27   9   3]\n",
      " [256  64  16   4]]\n"
     ]
    }
   ],
   "source": [
    "l = [1,2,3,4]\n",
    "\n",
    "n = int(input(\"Enter nof columns :\"))\n",
    "\n",
    "re = []\n",
    "import numpy as np\n",
    "\n",
    "for a in l:\n",
    "    for b in range(1,n+1):\n",
    "        re.append(a**b)\n",
    "print(\"re1 -->\",re)\n",
    "print(np.array(re).reshape(len(l),-1))\n",
    "\n",
    "re2 = []\n",
    "for a in l:\n",
    "    for b in range(n, 0 , -1):\n",
    "        re2.append(a**b)\n",
    "print(\"re2 -->\",re2)\n",
    "print(np.array(re2).reshape(len(l),-1))\n"
   ]
  },
  {
   "cell_type": "code",
   "execution_count": null,
   "metadata": {},
   "outputs": [],
   "source": []
  }
 ],
 "metadata": {
  "kernelspec": {
   "display_name": "Python 3",
   "language": "python",
   "name": "python3"
  },
  "language_info": {
   "codemirror_mode": {
    "name": "ipython",
    "version": 3
   },
   "file_extension": ".py",
   "mimetype": "text/x-python",
   "name": "python",
   "nbconvert_exporter": "python",
   "pygments_lexer": "ipython3",
   "version": "3.7.4"
  }
 },
 "nbformat": 4,
 "nbformat_minor": 2
}
