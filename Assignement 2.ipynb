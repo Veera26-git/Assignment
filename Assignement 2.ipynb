{
 "cells": [
  {
   "cell_type": "raw",
   "metadata": {},
   "source": [
    "Task 1:   \n",
    " \n",
    "1.1  \n",
    " \n",
    "Write a Python Program to implement your own myreduce() function which works exactly like Python's built-in function reduce() "
   ]
  },
  {
   "cell_type": "code",
   "execution_count": 1,
   "metadata": {},
   "outputs": [
    {
     "name": "stdout",
     "output_type": "stream",
     "text": [
      "--------------Userdefined reduce function ------------------------\n",
      "Input List is :[1, 2, 3, 4, 5]\n",
      "The sum without built-in function is :15\n",
      "The sum with built-in function is :15\n"
     ]
    }
   ],
   "source": [
    "from functools import reduce\n",
    "\n",
    "def sumOfListReduce(l):\n",
    "    s = 0\n",
    "    for i in l:\n",
    "        s= s + i\n",
    "    return s\n",
    "\n",
    "li = [1,2,3,4,5]\n",
    "s = sumOfListReduce(li)\n",
    "\n",
    "print(\"--------------Userdefined reduce function ------------------------\")\n",
    "print(\"Input List is :{}\".format(li))\n",
    "print(f\"The sum without built-in function is :{s}\")\n",
    "\n",
    "s1 = reduce((lambda a,b: a+b),li)\n",
    "print(f\"The sum with built-in function is :{s1}\")"
   ]
  },
  {
   "cell_type": "raw",
   "metadata": {},
   "source": [
    "1.2\n",
    "Write a Python program to implement your own myfilter() function which works exactly like\n",
    "Python's built-in function filter()"
   ]
  },
  {
   "cell_type": "code",
   "execution_count": 2,
   "metadata": {},
   "outputs": [
    {
     "name": "stdout",
     "output_type": "stream",
     "text": [
      "Input Words list : ['Veera', 'Gera', 'Hello', 'Hi', 'How', 'are', 'you!']\n",
      "Without built-in Filter function even len words : ['Gera', 'Hi', 'you!']\n",
      "With built-in Filter function even len words : ['Gera', 'Hi', 'you!']\n"
     ]
    }
   ],
   "source": [
    "def evenWordsFilter(li):\n",
    "    l = []\n",
    "    for item in li:\n",
    "        if len(item)%2 != 0:\n",
    "            continue\n",
    "        l.append(item)\n",
    "    return l\n",
    "\n",
    "words = [\"Veera\",\"Gera\",\"Hello\",\"Hi\",\"How\",\"are\",\"you!\"]\n",
    "\n",
    "evenWords = evenWordsFilter(words)\n",
    "print(f\"Input Words list : {words}\")\n",
    "print(f\"Without built-in Filter function even len words : {evenWords}\")\n",
    "\n",
    "evenWords_built_in = list(filter(lambda w: len(w)%2 ==0, words))\n",
    "print(f\"With built-in Filter function even len words : {evenWords_built_in}\")\n"
   ]
  },
  {
   "cell_type": "raw",
   "metadata": {},
   "source": [
    "2.  \n",
    " \n",
    "Implement List comprehensions to produce the following lists. \n",
    " \n",
    "Write List comprehensions to produce the following Lists \n",
    " \n",
    "['A', 'C', 'A', 'D', 'G', 'I', ’L’, ‘ D’] \n",
    " \n",
    "['x', 'xx', 'xxx', 'xxxx', 'y', 'yy', 'yyy', 'yyyy', 'z', 'zz', 'zzz', 'zzzz'] \n",
    " \n",
    "['x', 'y', 'z', 'xx', 'yy', 'zz', 'xx', 'yy', 'zz', 'xxxx', 'yyyy', 'zzzz'] \n",
    " \n",
    "[[2], [3], [4], [3], [4], [5], [4], [5], [6]] \n",
    " \n",
    "[[2, 3, 4, 5], [3, 4, 5, 6], [4, 5, 6, 7], [5, 6, 7, 8]] \n",
    " \n",
    "[(1, 1), (2, 1), (3, 1), (1, 2), (2, 2), (3, 2), (1, 3), (2, 3), (3, 3)] "
   ]
  },
  {
   "cell_type": "code",
   "execution_count": 3,
   "metadata": {},
   "outputs": [
    {
     "name": "stdout",
     "output_type": "stream",
     "text": [
      "['A', 'C', 'A', 'D', 'G', 'I', 'L', 'D']\n",
      "['x', 'xx', 'xxx', 'xxxx', 'y', 'yy', 'yyy', 'yyyy', 'z', 'zz', 'zzz', 'zzzz']\n",
      "['x', 'y', 'z', 'xx', 'yy', 'zz', 'xxx', 'yyy', 'zzz', 'xxxx', 'yyyy', 'zzzz']\n",
      "[[2], [3], [4], [3], [4], [5], [4], [5], [6]]\n",
      "[[2, 3, 4, 5], [3, 4, 5, 6], [4, 5, 6, 7], [5, 6, 7, 8]]\n",
      "[(1, 1), (2, 1), (3, 1), (1, 2), (2, 2), (3, 2), (1, 3), (2, 3), (3, 3)]\n"
     ]
    }
   ],
   "source": [
    "l1 = \"ACADGILD\"\n",
    "\n",
    "r1 = [ch for ch in l1]\n",
    "print(r1)\n",
    "\n",
    "l2 = ['x','y','z']\n",
    "\n",
    "r2 = [x*n for x in l2 for n in range(1,5)]\n",
    "print(r2)\n",
    "\n",
    "r3 = [x*n for n in range(1,5) for x in l2]\n",
    "print(r3)\n",
    "\n",
    "l3= [2,3,4]\n",
    "\n",
    "r4 = [[a+n] for a in l3 for n in range(0,3)]\n",
    "print(r4)\n",
    "l4 = [2,3,4,5]\n",
    "r5 = [[a+n for a in l4] for n in range(0,4)]\n",
    "print(r5)\n",
    "\n",
    "r6 = [(b, a-1) for a in l3 for b in range(1,4)]\n",
    "print(r6)"
   ]
  },
  {
   "cell_type": "raw",
   "metadata": {},
   "source": [
    "1.1\n",
    "Write a Python Program(with class concepts) to find the area of the triangle using the below\n",
    "formula.\n",
    "area = (s*(s-a)*(s-b)*(s-c)) ** 0.5\n",
    "Function to take the length of the sides of triangle from user should be defined in the parent\n",
    "class and function to calculate the area should be defined in subclass."
   ]
  },
  {
   "cell_type": "code",
   "execution_count": 5,
   "metadata": {},
   "outputs": [
    {
     "name": "stdout",
     "output_type": "stream",
     "text": [
      "Enter Side 1 :3\n",
      "Enter Side 2 :4\n",
      "Enter Side 3 :5\n",
      "Side 1 is : 3.0\n",
      "Side 2 is : 4.0\n",
      "Side 3 is : 5.0\n",
      "Areaa is : 6.0\n"
     ]
    }
   ],
   "source": [
    "class Sides:\n",
    "    def __init__(self):\n",
    "        self.sides = [0 for i in range(3)]\n",
    "\n",
    "    def inputSides(self):\n",
    "        self.sides = [float(input(\"Enter Side {} :\".format(i+1))) for i in range(3)]\n",
    "\n",
    "    def displaySides(self):\n",
    "        for i in range(3):\n",
    "            print(f\"Side {i+1} is : {self.sides[i]}\")\n",
    "\n",
    "class Area(Sides):\n",
    "    def __init__(self):\n",
    "        Sides.__init__(self)\n",
    "\n",
    "    def findArea(self):\n",
    "        a,b,c = self.sides\n",
    "        s = (a+b+c)/2\n",
    "        area = (s * (s-a) * (s-b) * (s-c)) ** 0.5\n",
    "        print(\"Areaa is :\",area)\n",
    "\n",
    "a = Area()\n",
    "a.inputSides()\n",
    "a.displaySides()\n",
    "a.findArea()"
   ]
  },
  {
   "cell_type": "raw",
   "metadata": {},
   "source": [
    "1.2 \n",
    " \n",
    "Write a function filter_long_words() that takes a list of words \n",
    "and an integer n and returns the list of words that are longer than n. "
   ]
  },
  {
   "cell_type": "code",
   "execution_count": 7,
   "metadata": {},
   "outputs": [
    {
     "name": "stdout",
     "output_type": "stream",
     "text": [
      "Enter word 1 :Veera\n",
      "Enter word 2 :Gera\n",
      "Enter word 3 :How\n",
      "Enter word 4 :Are\n",
      "Enter word 5 :You!\n",
      "Enter the length filter : 4\n",
      "The original list is : ['Veera', 'Gera', 'How', 'Are', 'You!']\n",
      "The filtered list of words with length > 4 is : ['Veera']\n"
     ]
    }
   ],
   "source": [
    "class FilterWords:\n",
    "\n",
    "    def filter_long_words(self,words,n):\n",
    "        self.l = words\n",
    "        self.length = n\n",
    "        filter_list = [word for word in self.l if len(word) > self.length] #generates new list with filtered list of given length\n",
    "        print(f\"The original list is : {self.l}\")\n",
    "        print(f\"The filtered list of words with length > {self.length} is : {filter_list}\")\n",
    "\n",
    "    def input_data(self):\n",
    "        words = [input(f\"Enter word {i+1} :\") for i in range(5)] # input list of words\n",
    "        n = int(input(\"Enter the length filter : \")) # input the filter length\n",
    "        return words,n\n",
    "fw = FilterWords()\n",
    "words,n = fw.input_data()\n",
    "fw.filter_long_words(words,n)"
   ]
  },
  {
   "cell_type": "raw",
   "metadata": {},
   "source": [
    "2.1 \n",
    " \n",
    "Write a Python program using function concept that maps  list of words into a list of integers representing the lengths of the corresponding words​. \n",
    " Hint: ​If a list [ ab,cde,erty] is passed on to the python function output should come as [2,3,4] \n",
    " Here 2,3 and 4 are the lengths of the words in the list. "
   ]
  },
  {
   "cell_type": "code",
   "execution_count": 8,
   "metadata": {},
   "outputs": [
    {
     "name": "stdout",
     "output_type": "stream",
     "text": [
      "The given list is : ->  ['ab', 'abc', 'abcd', 'abcde']\n",
      "The list of length of workds : [2, 3, 4, 5]\n",
      "('ab', 2)\n",
      "('abc', 3)\n",
      "('abcd', 4)\n",
      "('abcde', 5)\n"
     ]
    }
   ],
   "source": [
    "def lenList(l):\n",
    "    r = list(map(lambda x : len(x), l))\n",
    "    return r\n",
    "\n",
    "l = ['ab', 'abc', 'abcd', 'abcde']\n",
    "r = lenList(l)\n",
    "print(\"The given list is : -> \",l)\n",
    "print(\"The list of length of workds :\", r)\n",
    "\n",
    "for i in zip(l,r):\n",
    "    print(i)\n"
   ]
  },
  {
   "cell_type": "code",
   "execution_count": null,
   "metadata": {},
   "outputs": [],
   "source": []
  }
 ],
 "metadata": {
  "kernelspec": {
   "display_name": "Python 3",
   "language": "python",
   "name": "python3"
  },
  "language_info": {
   "codemirror_mode": {
    "name": "ipython",
    "version": 3
   },
   "file_extension": ".py",
   "mimetype": "text/x-python",
   "name": "python",
   "nbconvert_exporter": "python",
   "pygments_lexer": "ipython3",
   "version": "3.7.4"
  }
 },
 "nbformat": 4,
 "nbformat_minor": 2
}
