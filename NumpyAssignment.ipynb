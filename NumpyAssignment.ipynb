{
 "cells": [
  {
   "cell_type": "markdown",
   "metadata": {},
   "source": [
    "Write a function so that the columns of the output matrix are powers of the input\n",
    "vector.\n",
    "The order of the powers is determined by the increasing boolean argument. Specifically, when\n",
    "increasing is False, the i-th output column is the input vector raised element-wise to the power\n",
    "of N - i - 1.\n",
    "\n",
    "HINT: Such a matrix with a geometric progression in each row is named for Alexandre-\n",
    "Theophile Vandermonde."
   ]
  },
  {
   "cell_type": "code",
   "execution_count": 4,
   "metadata": {},
   "outputs": [
    {
     "name": "stdout",
     "output_type": "stream",
     "text": [
      "list :  [1 2 3 4]  and k value is : 4\n",
      "\n",
      "o_matrix_inc_order : \n",
      " [[ 1  1  1  1]\n",
      " [ 1  2  4  8]\n",
      " [ 1  3  9 27]\n",
      " [ 1  4 16 64]]\n",
      "\n",
      "o_matrix_dec_order : \n",
      " [[ 1  1  1  1]\n",
      " [ 8  4  2  1]\n",
      " [27  9  3  1]\n",
      " [64 16  4  1]]\n"
     ]
    }
   ],
   "source": [
    "import numpy as np\n",
    "def vandermonde1(l,n,boolean):\n",
    "    if boolean:\n",
    "        vandermonde = np.array([x**i for x in l  for i in range(n)]).reshape(l.size,n)\n",
    "    else:\n",
    "        vandermonde = np.array([x**(n-1-i) for x in l for i in range(n)]).reshape(l.size,n)\n",
    "    return vandermonde\n",
    "li = np.array([1,2,3,4])\n",
    "k = 4\n",
    "o_matrix_inc_order = vandermonde1(li,k,True)\n",
    "o_matrix_dec_order = vandermonde1(li,k,False)\n",
    "print('list : ', li , ' and k value is :', k)\n",
    "print('\\no_matrix_inc_order : \\n', o_matrix_inc_order)\n",
    "print('\\no_matrix_dec_order : \\n', o_matrix_dec_order)"
   ]
  },
  {
   "cell_type": "markdown",
   "metadata": {},
   "source": [
    "Problem Statement 2:\n",
    "Given a sequence of n values x1, x2, ..., xn and a window size k>0, the k-th moving average of\n",
    "the given sequence is defined as follows:\n",
    "The moving average sequence has n-k+1 elements as shown below.\n",
    "The moving averages with k=4 of a ten-value sequence (n=10) is shown below\n",
    "i 1 2 3 4 5 6 7 8 9 10\n",
    "===== == == == == == == == == == ==\n",
    "Input 10 20 30 40 50 60 70 80 90 100\n",
    "y1 25 = (10+20+30+40)/4\n",
    "y2 35 = (20+30+40+50)/4\n",
    "y3 45 = (30+40+50+60)/4\n",
    "y4 55 = (40+50+60+70)/4\n",
    "y5 65 = (50+60+70+80)/4\n",
    "y6 75 = (60+70+80+90)/4\n",
    "y7 85 = (70+80+90+100)/4\n",
    "Thus, the moving average sequence has n-k+1=10-4+1=7 values.\n",
    "\n",
    "Question: Write a function to find moving average in an array over a window:\n",
    "Test it over [3, 5, 7, 2, 8, 10, 11, 65, 72, 81, 99, 100, 150] and window of 3."
   ]
  },
  {
   "cell_type": "code",
   "execution_count": 11,
   "metadata": {},
   "outputs": [
    {
     "name": "stdout",
     "output_type": "stream",
     "text": [
      "The list of items :  [ 10  20  30  40  50  60  70  80  90 100]  and window value is :  4\n",
      "\n",
      "The moving Average list is :\n",
      "\n",
      " [25.0, 35.0, 45.0, 55.0, 65.0, 75.0, 85.0]\n",
      "\n",
      "**************************\n",
      "\n",
      "The list of items :  [  3   5   7   2   8  10  11  65  72  81  99 100 150]  and window value is :  3\n",
      "\n",
      "The moving Average list is : \n",
      "\n",
      " [5.0, 4.666666666666667, 5.666666666666667, 6.666666666666667, 9.666666666666666, 28.666666666666668, 49.333333333333336, 72.66666666666667, 84.0, 93.33333333333333, 116.33333333333333]\n"
     ]
    }
   ],
   "source": [
    "def movingAverage(li, k):\n",
    "    n = li.size\n",
    "    l1 = []\n",
    "    for i in range(n-k+1):\n",
    "        l1.append(np.mean([li[i:i+k]]))\n",
    "    \n",
    "    return l1\n",
    "\n",
    "l = np.array([10, 20, 30, 40, 50, 60, 70, 80, 90, 100])\n",
    "k = 4\n",
    "print('The list of items : ', l , ' and window value is : ',k)\n",
    "print('\\nThe moving Average list is :\\n\\n',movingAverage(l,k))\n",
    "        \n",
    "l2 =  np.array([3, 5, 7, 2, 8, 10, 11, 65, 72, 81, 99, 100, 150])\n",
    "k2 = 3\n",
    "\n",
    "print('\\n**************************\\n')\n",
    "print('The list of items : ', l2 , ' and window value is : ',k2)\n",
    "print('\\nThe moving Average list is : \\n\\n',movingAverage(l2,k2))"
   ]
  },
  {
   "cell_type": "markdown",
   "metadata": {},
   "source": []
  }
 ],
 "metadata": {
  "kernelspec": {
   "display_name": "Python 3",
   "language": "python",
   "name": "python3"
  },
  "language_info": {
   "codemirror_mode": {
    "name": "ipython",
    "version": 3
   },
   "file_extension": ".py",
   "mimetype": "text/x-python",
   "name": "python",
   "nbconvert_exporter": "python",
   "pygments_lexer": "ipython3",
   "version": "3.7.4"
  }
 },
 "nbformat": 4,
 "nbformat_minor": 2
}
